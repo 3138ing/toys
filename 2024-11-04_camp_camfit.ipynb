{
 "cells": [
  {
   "cell_type": "code",
   "execution_count": null,
   "metadata": {},
   "outputs": [],
   "source": [
    "import sys\n",
    "sys.path.insert(0, '../toys-data/conf.d')\n",
    "import camp_camfit as conf"
   ]
  },
  {
   "cell_type": "code",
   "execution_count": null,
   "metadata": {},
   "outputs": [],
   "source": [
    "import json"
   ]
  },
  {
   "cell_type": "code",
   "execution_count": null,
   "metadata": {},
   "outputs": [],
   "source": [
    "with open(f'../toys-data/var/{conf.id}.har', 'r') as file:\n",
    "    har = json.load(file)"
   ]
  },
  {
   "cell_type": "code",
   "execution_count": null,
   "metadata": {},
   "outputs": [],
   "source": [
    "def analyze_har(node, node_list):\n",
    "    copy_node_list = node_list.copy()\n",
    "    if type(node) is list:\n",
    "        for index, element in enumerate(node):\n",
    "            analyze_har(element, copy_node_list + [f'[{index}]'])\n",
    "    elif type(node) is dict:\n",
    "        for element in node:\n",
    "            analyze_har(node[element], copy_node_list + [element])\n",
    "    elif type(node) is str:\n",
    "        #print(copy_node_list, node)\n",
    "        None\n",
    "    elif type(node) is int:\n",
    "        #print(copy_node_list, node)\n",
    "        None\n",
    "    elif type(node) is float:\n",
    "        #print(copy_node_list, node)\n",
    "        None\n",
    "    elif type(node) is bool:\n",
    "        #print(copy_node_list, node)\n",
    "        None\n",
    "    elif node is None:\n",
    "        None\n",
    "    else:\n",
    "        print('[EXCEPT]', type(node), node_list)\n",
    "# node_list = []\n",
    "# analyze_har(har, node_list)"
   ]
  },
  {
   "cell_type": "code",
   "execution_count": null,
   "metadata": {},
   "outputs": [],
   "source": [
    "# for item in har['log']['entries']:\n",
    "#     if item['_initiator']['type'] == 'preflight':\n",
    "#         continue\n",
    "#     print(item['request']['url'])"
   ]
  },
  {
   "cell_type": "code",
   "execution_count": null,
   "metadata": {},
   "outputs": [],
   "source": [
    "found_names = set()\n",
    "def analyze_content(entry_index, json_org, node, node_list):\n",
    "    global found_names\n",
    "    copy_node_list = node_list.copy()\n",
    "    if type(node) is list:\n",
    "        for index, element in enumerate(node):\n",
    "            analyze_content(entry_index, json_org, element, copy_node_list + [f'[{index}]'])\n",
    "    elif type(node) is dict:\n",
    "        for element in node:\n",
    "            analyze_content(entry_index, json_org, node[element], copy_node_list + [element])\n",
    "    elif type(node) is str:\n",
    "        if node.find('검색어') != -1:\n",
    "            info_index = int(f'{copy_node_list[0]}'.strip('[]'))\n",
    "            info_name = json_org[info_index]['name']\n",
    "            info_types = json_org[info_index]['types']\n",
    "            if 'autoCamping' in info_types:\n",
    "                found_names.add(info_name)\n",
    "                print(entry_index, info_index, info_name, node, node_list)\n",
    "# node_list = []\n",
    "# analyze_content(json_org, node_list)"
   ]
  },
  {
   "cell_type": "code",
   "execution_count": null,
   "metadata": {},
   "outputs": [],
   "source": [
    "for entry_index, entry in enumerate(har['log']['entries']):\n",
    "    if entry['_initiator']['type'] == 'preflight':\n",
    "        continue\n",
    "    if 'text' not in entry['response']['content']:\n",
    "        continue\n",
    "    try:\n",
    "        if not entry['response']['content']['text'].startswith('['):\n",
    "            continue\n",
    "        content = json.loads(entry['response']['content']['text'])\n",
    "        node_list = []\n",
    "        analyze_content(entry_index, content, content, node_list)\n",
    "    except Exception as ex:\n",
    "        print('[EXCEPT]', ex)\n",
    "\n",
    "found_names"
   ]
  },
  {
   "cell_type": "code",
   "execution_count": null,
   "metadata": {},
   "outputs": [],
   "source": [
    "# ### sample\n",
    "# node = json.loads(har['log']['entries'][14]['response']['content']['text'])\n",
    "# node[2]"
   ]
  }
 ],
 "metadata": {
  "kernelspec": {
   "display_name": "Python 3",
   "language": "python",
   "name": "python3"
  },
  "language_info": {
   "codemirror_mode": {
    "name": "ipython",
    "version": 3
   },
   "file_extension": ".py",
   "mimetype": "text/x-python",
   "name": "python",
   "nbconvert_exporter": "python",
   "pygments_lexer": "ipython3",
   "version": "3.12.3"
  }
 },
 "nbformat": 4,
 "nbformat_minor": 2
}
