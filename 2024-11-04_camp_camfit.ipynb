{
 "cells": [
  {
   "cell_type": "code",
   "execution_count": null,
   "metadata": {},
   "outputs": [],
   "source": [
    "import sys\n",
    "sys.path.insert(0, '../toys-data/conf.d')\n",
    "import camp_camfit as conf"
   ]
  },
  {
   "cell_type": "code",
   "execution_count": null,
   "metadata": {},
   "outputs": [],
   "source": [
    "import json"
   ]
  },
  {
   "cell_type": "code",
   "execution_count": null,
   "metadata": {},
   "outputs": [],
   "source": [
    "with open(f'../toys-data/var/{conf.id}.har', 'r') as file:\n",
    "    har = json.load(file)"
   ]
  },
  {
   "cell_type": "code",
   "execution_count": null,
   "metadata": {},
   "outputs": [],
   "source": [
    "def analyze_har(obj, names):\n",
    "    copy_names = names.copy()\n",
    "    if type(obj) is list:\n",
    "        for index, ele in enumerate(obj):\n",
    "            analyze_har(ele, copy_names + [f'[{index}]'])\n",
    "    elif type(obj) is dict:\n",
    "        for ele in obj:\n",
    "            analyze_har(obj[ele], copy_names + [ele])\n",
    "    else:\n",
    "        #if type(obj) is str and obj.find('skip') != -1:\n",
    "            print(copy_names, obj)\n",
    "# names = []\n",
    "# analyze_har(har, names)"
   ]
  },
  {
   "cell_type": "code",
   "execution_count": null,
   "metadata": {},
   "outputs": [],
   "source": [
    "# for item in har['log']['entries']:\n",
    "#     if item['_initiator']['type'] == 'preflight':\n",
    "#         continue\n",
    "#     print(item['request']['url'])"
   ]
  },
  {
   "cell_type": "code",
   "execution_count": null,
   "metadata": {},
   "outputs": [],
   "source": [
    "set_names = set()\n",
    "def analyze_search(har_index, search, obj, names):\n",
    "    global dic_names\n",
    "    copy_names = names.copy()\n",
    "    if type(obj) is list:\n",
    "        for index, ele in enumerate(obj):\n",
    "            analyze_search(har_index, search, ele, copy_names + [f'[{index}]'])\n",
    "    elif type(obj) is dict:\n",
    "        for ele in obj:\n",
    "            analyze_search(har_index, search, obj[ele], copy_names + [ele])\n",
    "    else:\n",
    "        if type(obj) is str and obj.find('skip') != -1:\n",
    "            info_index = int(f'{copy_names[0]}'.strip('[]'))\n",
    "            info_name = search[info_index]['name']\n",
    "            info_types = search[info_index]['types']\n",
    "            if 'autoCamping' in info_types:\n",
    "                set_names.add(info_name)\n",
    "                #print(info_name, obj)\n",
    "                print(har_index, info_index, info_name, obj, names)\n",
    "#names = []\n",
    "#analyze_search(search, names)"
   ]
  },
  {
   "cell_type": "code",
   "execution_count": null,
   "metadata": {},
   "outputs": [],
   "source": [
    "for har_index, item in enumerate(har['log']['entries']):\n",
    "    if item['_initiator']['type'] == 'preflight':\n",
    "        continue\n",
    "    if 'text' not in item['response']['content']:\n",
    "        continue\n",
    "    try:\n",
    "        if not item['response']['content']['text'].startswith('['):\n",
    "            continue\n",
    "        search = json.loads(item['response']['content']['text'])\n",
    "        names = []\n",
    "        analyze_search(har_index, search, search, names)\n",
    "    except Exception as ex:\n",
    "        print('[EXCEPT]', ex)\n",
    "\n",
    "set_names - conf.set_names_remove"
   ]
  },
  {
   "cell_type": "code",
   "execution_count": null,
   "metadata": {},
   "outputs": [],
   "source": [
    "# ### sample\n",
    "# search = json.loads(har['log']['entries'][14]['response']['content']['text'])\n",
    "# search[2]"
   ]
  }
 ],
 "metadata": {
  "kernelspec": {
   "display_name": "Python 3",
   "language": "python",
   "name": "python3"
  },
  "language_info": {
   "codemirror_mode": {
    "name": "ipython",
    "version": 3
   },
   "file_extension": ".py",
   "mimetype": "text/x-python",
   "name": "python",
   "nbconvert_exporter": "python",
   "pygments_lexer": "ipython3",
   "version": "3.12.3"
  }
 },
 "nbformat": 4,
 "nbformat_minor": 2
}
