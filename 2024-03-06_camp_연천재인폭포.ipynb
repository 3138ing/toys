{
 "cells": [
  {
   "cell_type": "code",
   "execution_count": null,
   "metadata": {},
   "outputs": [],
   "source": [
    "import sys\n",
    "sys.path.insert(0, '../toys-data')\n",
    "import conf"
   ]
  },
  {
   "cell_type": "code",
   "execution_count": null,
   "metadata": {},
   "outputs": [],
   "source": [
    "import requests\n",
    "import time\n",
    "import random\n",
    "import datetime\n",
    "\n",
    "from email.mime.multipart import MIMEMultipart\n",
    "from email.mime.text import MIMEText\n",
    "import ssl\n",
    "import smtplib"
   ]
  },
  {
   "cell_type": "code",
   "execution_count": null,
   "metadata": {},
   "outputs": [],
   "source": [
    "project_id = '2024030600'"
   ]
  },
  {
   "cell_type": "code",
   "execution_count": null,
   "metadata": {},
   "outputs": [],
   "source": [
    "giving_message = '한글테스트'"
   ]
  },
  {
   "cell_type": "code",
   "execution_count": null,
   "metadata": {},
   "outputs": [],
   "source": [
    "def o(*args):\n",
    "    message = datetime.datetime.now().strftime('%Y-%m-%d %H:%M:%S') + '\\t'\n",
    "    for m in args:\n",
    "        message += str(m)\n",
    "        if m != args[-1]:\n",
    "            message += '\\t'\n",
    "    print(message, file=sys.stderr)"
   ]
  },
  {
   "cell_type": "code",
   "execution_count": null,
   "metadata": {},
   "outputs": [],
   "source": [
    "def mail():\n",
    "    # SMTP\n",
    "    SMTP_SERVER = conf.SMTP_SERVER\n",
    "    SMTP_PORT = conf.SMTP_PORT\n",
    "    SMTP_USER = conf.SMTP_USER\n",
    "    SMTP_PASSWORD = conf.SMTP_PASSWORD\n",
    "    \n",
    "    # mime\n",
    "    msg = MIMEMultipart()\n",
    "    msg['From'] = conf.SMTP_FROM\n",
    "    msg['To'] = conf.SMTP_TO\n",
    "    msg['Subject'] = giving_message\n",
    "\n",
    "    mimetext = MIMEText(giving_message, _charset='utf-8')\n",
    "    msg.attach(mimetext)\n",
    "\n",
    "    # smtp\n",
    "    # ssl_context = ssl.SSLContext(ssl.PROTOCOL_TLSv1_2)\n",
    "    ssl_context = ssl.create_default_context()\n",
    "    ssl_context.set_ciphers('DEFAULT:!DH')\n",
    "    smtp = smtplib.SMTP_SSL(SMTP_SERVER, SMTP_PORT, context=ssl_context)\n",
    "    smtp.login(SMTP_USER, SMTP_PASSWORD)\n",
    "    smtp.sendmail(msg['From'], msg['To'], msg.as_string())\n",
    "    smtp.close()\n",
    "\n",
    "    o('[INFO] smtp done')\n",
    "\n",
    "def slack():\n",
    "    requests.post(\n",
    "    f'https://hooks.slack.com/services/{conf.SLACK_WEBHOOK_URL}',\n",
    "    headers={\n",
    "        'content-type': 'application/json'\n",
    "    },\n",
    "    json={\n",
    "        'text': giving_message,\n",
    "        'blocks': [\n",
    "        {\n",
    "            'type': 'section',\n",
    "            'text': {\n",
    "            'type': 'mrkdwn',\n",
    "            'text': giving_message\n",
    "            }\n",
    "        }\n",
    "        ]\n",
    "    }\n",
    "    )\n",
    "    o('[INFO] slack done')"
   ]
  },
  {
   "cell_type": "code",
   "execution_count": null,
   "metadata": {},
   "outputs": [],
   "source": [
    "def try_get_response():\n",
    "    try:\n",
    "        headers = conf.get_request_header(project_id)\n",
    "        base_url = conf.get_base_url(project_id)\n",
    "        return requests.get(base_url, headers=headers)\n",
    "    except Exception as e:\n",
    "        o('[EXCEPT] try_get_response')\n",
    "        o('', e)\n",
    "        return None\n",
    "def try_get_json(response):\n",
    "    try:\n",
    "        return response.json()\n",
    "    except Exception as e:\n",
    "        o('[EXCEPT] try_get_json')\n",
    "        o('', e)\n",
    "        o('', response.text)\n",
    "        return None\n",
    "def try_get_remain_seat(json_data):\n",
    "    try:\n",
    "        return int(json_data['data']['remainSeat'][1]['remainCnt'])\n",
    "    except Exception as e:\n",
    "        o('[EXCEPT] try_get_remain_seat')\n",
    "        o('', e)\n",
    "        o('', json_data)\n",
    "        return None\n",
    "def try_alarm():\n",
    "    try:\n",
    "        mail()\n",
    "    except Exception as e:\n",
    "        o('[EXCEPT] try_smtp')\n",
    "        o('', e)\n",
    "    try:\n",
    "        slack()\n",
    "    except Exception as e:\n",
    "        o('[EXCEPT] try_slack')\n",
    "        o('', e)\n",
    "    return\n",
    "    import winsound\n",
    "    import time\n",
    "    frequency = 1500  # Set Frequency To 2500 Hertz\n",
    "    duration = 1000  # Set Duration To 1000 ms == 1 second\n",
    "    for _ in range(20):\n",
    "        time.sleep(0.5)\n",
    "        winsound.Beep(frequency, duration)        "
   ]
  },
  {
   "cell_type": "code",
   "execution_count": null,
   "metadata": {},
   "outputs": [],
   "source": [
    "def check():\n",
    "    response = try_get_response()\n",
    "    if response == None:\n",
    "        return False\n",
    "    json_data = try_get_json(response)\n",
    "\n",
    "    if json_data == None:\n",
    "        return False\n",
    "\n",
    "    remain_seat = try_get_remain_seat(json_data)\n",
    "    if remain_seat == None:\n",
    "        return False\n",
    "    o('남은자리', f'{remain_seat}')\n",
    "    if remain_seat > 0:\n",
    "        try_alarm()\n",
    "    return True\n"
   ]
  },
  {
   "cell_type": "code",
   "execution_count": null,
   "metadata": {},
   "outputs": [],
   "source": [
    "# try_alarm()\n",
    "# check()\n",
    "# slack()"
   ]
  },
  {
   "cell_type": "code",
   "execution_count": null,
   "metadata": {},
   "outputs": [],
   "source": [
    "# while True:\n",
    "#     if check() == False:\n",
    "#         time.sleep(random.randrange(50 * 2, 70 * 2))\n",
    "#     else:\n",
    "#         time.sleep(random.randrange(50, 70))"
   ]
  }
 ],
 "metadata": {
  "kernelspec": {
   "display_name": "Python 3",
   "language": "python",
   "name": "python3"
  },
  "language_info": {
   "codemirror_mode": {
    "name": "ipython",
    "version": 3
   },
   "file_extension": ".py",
   "mimetype": "text/x-python",
   "name": "python",
   "nbconvert_exporter": "python",
   "pygments_lexer": "ipython3",
   "version": "3.12.3"
  }
 },
 "nbformat": 4,
 "nbformat_minor": 2
}
