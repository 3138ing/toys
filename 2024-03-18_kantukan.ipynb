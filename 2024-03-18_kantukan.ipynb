{
 "cells": [
  {
   "cell_type": "code",
   "execution_count": null,
   "metadata": {},
   "outputs": [],
   "source": [
    "import sys\n",
    "sys.path.insert(0, '../toys-data')\n",
    "import conf"
   ]
  },
  {
   "cell_type": "code",
   "execution_count": null,
   "metadata": {},
   "outputs": [],
   "source": [
    "import requests\n",
    "from bs4 import BeautifulSoup\n",
    "import json\n",
    "import re\n",
    "import time\n",
    "import random"
   ]
  },
  {
   "cell_type": "code",
   "execution_count": null,
   "metadata": {},
   "outputs": [],
   "source": [
    "project_id = '2024031800'"
   ]
  },
  {
   "cell_type": "code",
   "execution_count": null,
   "metadata": {},
   "outputs": [],
   "source": [
    "url = f'{conf.get_base_url(project_id)}/shop/mall/prdt/prdt_list.php?pcate=033005&type=9&opt=sort_num&limit_e=90&col_sort=three&paging=1'\n",
    "url = f'{conf.get_base_url(project_id)}/shop/mall/prdt/prdt_list.php?pcate=033005&type=9&opt=sort_num&limit_e=90&col_sort=three&paging=2'\n",
    "session = requests.Session()\n",
    "\n",
    "response = session.get(url, headers=conf.get_request_header(project_id))"
   ]
  },
  {
   "cell_type": "code",
   "execution_count": null,
   "metadata": {},
   "outputs": [],
   "source": [
    "soup = BeautifulSoup(response.content, 'html.parser')\n",
    "html_obj_scripts = soup.find_all('script')"
   ]
  },
  {
   "cell_type": "code",
   "execution_count": null,
   "metadata": {},
   "outputs": [],
   "source": [
    "def remove_comments(string):\n",
    "    pattern = r\"(\\\".*?\\\"|\\'.*?\\')|(/\\*.*?\\*/|//[^\\r\\n]*$)\"\n",
    "    regex = re.compile(pattern, re.MULTILINE|re.DOTALL)\n",
    "    def _replacer(match):\n",
    "        if match.group(2) is not None:\n",
    "            return \"\"\n",
    "        else:\n",
    "            return match.group(1) # captured quoted-string\n",
    "    return regex.sub(_replacer, string)"
   ]
  },
  {
   "cell_type": "code",
   "execution_count": null,
   "metadata": {},
   "outputs": [],
   "source": [
    "for html_obj_script in html_obj_scripts:\n",
    "    try:\n",
    "        text = str(html_obj_script)\n",
    "        begin_text = r\"dataLayer.push({\"\n",
    "        begin_index = text.find(begin_text)\n",
    "        if begin_index == -1:\n",
    "            continue\n",
    "        end_text = r\"});\"\n",
    "        end_index = text.find(end_text, begin_index)\n",
    "        #\n",
    "        js = (text[begin_index + len(begin_text) - 1: end_index + len(end_text) - 2])\n",
    "        js = remove_comments(js)\n",
    "        end_index =js.rfind(',')\n",
    "        js = js[:end_index] + ']}}'\n",
    "        js = json.loads(js)\n",
    "        #\n",
    "        for item in js['ecommerce']['items']:\n",
    "            #print(item)\n",
    "            url_item = f\"{conf.get_base_url(project_id)}/shop/mall/prdt/prdt_view.php?pidx={item['item_id']}&pcate={item['item_category']}&cateChk=c&rdt=ok\"\n",
    "            response_item = session.get(url_item, headers=conf.get_request_header(project_id))\n",
    "            time.sleep(random.randrange(1,7))\n",
    "            soup_item = BeautifulSoup(response_item.content, 'html.parser')\n",
    "            #\n",
    "            select_item = soup_item.find('select')\n",
    "            option_items = select_item.find_all('option')\n",
    "            for option_item in option_items:\n",
    "                if option_item.text.find('/40') != -1 and option_item.text.find('완판') == -1:\n",
    "                    print(item['item_name'], option_item.text)\n",
    "    except Exception as ex:\n",
    "        print('[EXCEPTION]', ex)"
   ]
  }
 ],
 "metadata": {
  "kernelspec": {
   "display_name": "Python 3",
   "language": "python",
   "name": "python3"
  },
  "language_info": {
   "codemirror_mode": {
    "name": "ipython",
    "version": 3
   },
   "file_extension": ".py",
   "mimetype": "text/x-python",
   "name": "python",
   "nbconvert_exporter": "python",
   "pygments_lexer": "ipython3",
   "version": "3.12.3"
  }
 },
 "nbformat": 4,
 "nbformat_minor": 2
}
