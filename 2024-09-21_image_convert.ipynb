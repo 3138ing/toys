{
 "cells": [
  {
   "cell_type": "code",
   "execution_count": null,
   "metadata": {},
   "outputs": [],
   "source": [
    "### 포멧 변환\n",
    "from PIL import Image\n",
    "\n",
    "src_path = 'test.jpg'\n",
    "dst_path = 'test.png'\n",
    "dst_format = 'png'\n",
    "img = Image.open(src_path).convert('RGB')\n",
    "img.save(dst_path, dst_format)"
   ]
  },
  {
   "cell_type": "code",
   "execution_count": null,
   "metadata": {},
   "outputs": [],
   "source": [
    "### 포멧 사이즈 변환\n",
    "from PIL import Image\n",
    "\n",
    "src_path = 'test.jpg'\n",
    "dst_path = 'test.png'\n",
    "dst_format = 'png'\n",
    "dst_width = 150\n",
    "\n",
    "img = Image.open(src_path).convert('RGB')\n",
    "ratio = (dst_width / float(img.size[0]))\n",
    "dst_height = int((float(img.size[1]) * float(ratio)))\n",
    "img = img.resize((dst_width, dst_height), Image.Resampling.LANCZOS)\n",
    "img.save(dst_path, dst_format)"
   ]
  }
 ],
 "metadata": {
  "kernelspec": {
   "display_name": "Python 3",
   "language": "python",
   "name": "python3"
  },
  "language_info": {
   "codemirror_mode": {
    "name": "ipython",
    "version": 3
   },
   "file_extension": ".py",
   "mimetype": "text/x-python",
   "name": "python",
   "nbconvert_exporter": "python",
   "pygments_lexer": "ipython3",
   "version": "3.10.5"
  }
 },
 "nbformat": 4,
 "nbformat_minor": 2
}
