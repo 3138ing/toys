{
 "cells": [
  {
   "cell_type": "code",
   "execution_count": null,
   "metadata": {},
   "outputs": [],
   "source": [
    "# # listen\n",
    "# from pynput.mouse import Listener\n",
    "\n",
    "# def on_click(x, y, b, p):\n",
    "#     print(str(x)+','+str(y))\n",
    "\n",
    "# with Listener(on_click=on_click) as L:\n",
    "#     L.join()\n",
    "\n",
    "# # 630,829 824,930 137,831 281,936\n",
    "# # 606,22\n",
    "# # 1102,461"
   ]
  },
  {
   "cell_type": "code",
   "execution_count": 78,
   "metadata": {},
   "outputs": [],
   "source": [
    "# refresh\n",
    "import pyautogui\n",
    "import time\n",
    "time.sleep(0.1)\n",
    "#pyautogui.moveTo(100,60)\n",
    "pyautogui.click(100,60)\n",
    "pyautogui.click(622,22)\n",
    "pyautogui.click(1200,500)\n",
    "pyautogui.moveTo(1140,710)\n",
    "pyautogui.press('esc')"
   ]
  },
  {
   "cell_type": "code",
   "execution_count": 69,
   "metadata": {},
   "outputs": [],
   "source": [
    "# click\n",
    "import time\n",
    "time.sleep(0.1)\n",
    "#pyautogui.moveTo(90,990)\n",
    "pyautogui.click(641,804)\n",
    "pyautogui.click(641,960)\n",
    "pyautogui.click(90,846)\n",
    "pyautogui.click(90,990)\n"
   ]
  }
 ],
 "metadata": {
  "kernelspec": {
   "display_name": "Python 3",
   "language": "python",
   "name": "python3"
  },
  "language_info": {
   "codemirror_mode": {
    "name": "ipython",
    "version": 3
   },
   "file_extension": ".py",
   "mimetype": "text/x-python",
   "name": "python",
   "nbconvert_exporter": "python",
   "pygments_lexer": "ipython3",
   "version": "3.12.3"
  }
 },
 "nbformat": 4,
 "nbformat_minor": 2
}
