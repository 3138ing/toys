{
 "cells": [
  {
   "cell_type": "code",
   "execution_count": 1,
   "metadata": {},
   "outputs": [],
   "source": [
    "import pdf2image "
   ]
  },
  {
   "cell_type": "code",
   "execution_count": 2,
   "metadata": {},
   "outputs": [],
   "source": [
    "doc = pdf2image.convert_from_path()"
   ]
  },
  {
   "cell_type": "code",
   "execution_count": 8,
   "metadata": {},
   "outputs": [],
   "source": [
    "import fitz\n",
    "doc = fitz.open(\"D:\\\\RE.pdf\")\n",
    "for i, page in enumerate(doc):\n",
    "    img = page.get_pixmap()\n",
    "    img.save(f\"D:\\\\data_{i}.png\")"
   ]
  },
  {
   "cell_type": "code",
   "execution_count": 10,
   "metadata": {},
   "outputs": [],
   "source": [
    "from PIL import Image\n",
    "\n",
    "\n",
    "def get_concat_v(im1, im2):\n",
    "    dst = Image.new('RGB', (im1.width, im1.height + im2.height))\n",
    "    dst.paste(im1, (0, 0))\n",
    "    dst.paste(im2, (0, im1.height))\n",
    "    return dst\n",
    "\n",
    "im0 = Image.open('D:\\\\data_0.png')\n",
    "im1 = Image.open('D:\\\\data_1.png')\n",
    "im2 = Image.open('D:\\\\data_2.png')\n",
    "im3 = Image.open('D:\\\\data_3.png')\n",
    "im4 = Image.open('D:\\\\data_4.png')\n",
    "im5 = Image.open('D:\\\\data_5.png')\n",
    "\n",
    "im = get_concat_v(im0, im1)\n",
    "im = get_concat_v(im, im2)\n",
    "im = get_concat_v(im, im3)\n",
    "im = get_concat_v(im, im4)\n",
    "im = get_concat_v(im, im5)"
   ]
  },
  {
   "cell_type": "code",
   "execution_count": 12,
   "metadata": {},
   "outputs": [],
   "source": [
    "im.save('d:\\\\RE.png')"
   ]
  },
  {
   "cell_type": "code",
   "execution_count": null,
   "metadata": {},
   "outputs": [],
   "source": []
  }
 ],
 "metadata": {
  "kernelspec": {
   "display_name": "Python 3",
   "language": "python",
   "name": "python3"
  },
  "language_info": {
   "codemirror_mode": {
    "name": "ipython",
    "version": 3
   },
   "file_extension": ".py",
   "mimetype": "text/x-python",
   "name": "python",
   "nbconvert_exporter": "python",
   "pygments_lexer": "ipython3",
   "version": "3.10.5"
  }
 },
 "nbformat": 4,
 "nbformat_minor": 2
}
