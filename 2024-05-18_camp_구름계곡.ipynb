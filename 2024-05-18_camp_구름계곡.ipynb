{
 "cells": [
  {
   "cell_type": "code",
   "execution_count": null,
   "metadata": {},
   "outputs": [],
   "source": [
    "import sys\n",
    "sys.path.insert(0, '../toys-data')\n",
    "import conf"
   ]
  },
  {
   "cell_type": "code",
   "execution_count": 1,
   "metadata": {},
   "outputs": [],
   "source": [
    "import requests\n",
    "import time\n",
    "import random\n",
    "import datetime\n",
    "\n",
    "from email.mime.multipart import MIMEMultipart\n",
    "from email.mime.text import MIMEText\n",
    "import ssl\n",
    "import smtplib\n",
    "from bs4 import BeautifulSoup as bs"
   ]
  },
  {
   "cell_type": "code",
   "execution_count": null,
   "metadata": {},
   "outputs": [],
   "source": [
    "project_id = '2024051800'"
   ]
  },
  {
   "cell_type": "code",
   "execution_count": null,
   "metadata": {},
   "outputs": [],
   "source": [
    "giving_message = '한글테스트'"
   ]
  },
  {
   "cell_type": "code",
   "execution_count": 2,
   "metadata": {},
   "outputs": [],
   "source": [
    "def o(*args):\n",
    "    message = datetime.datetime.now().strftime('%Y-%m-%d %H:%M:%S') + '\\t'\n",
    "    for m in args:\n",
    "        message += str(m)\n",
    "        if m != args[-1]:\n",
    "            message += '\\t'\n",
    "    print(message, file=sys.stderr)"
   ]
  },
  {
   "cell_type": "code",
   "execution_count": 3,
   "metadata": {},
   "outputs": [],
   "source": [
    "def mail():\n",
    "    # SMTP\n",
    "    SMTP_SERVER = conf.SMTP_SERVER\n",
    "    SMTP_PORT = conf.SMTP_PORT\n",
    "    SMTP_USER = conf.SMTP_USER\n",
    "    SMTP_PASSWORD = conf.SMTP_PASSWORD\n",
    "    \n",
    "    # mime\n",
    "    msg = MIMEMultipart()\n",
    "    msg['From'] = conf.SMTP_FROM\n",
    "    msg['To'] = conf.SMTP_TO\n",
    "    msg['Subject'] = giving_message\n",
    "\n",
    "    mimetext = MIMEText(giving_message, _charset='utf-8')\n",
    "    msg.attach(mimetext)\n",
    "\n",
    "    # smtp\n",
    "    # ssl_context = ssl.SSLContext(ssl.PROTOCOL_TLSv1_2)\n",
    "    ssl_context = ssl.create_default_context()\n",
    "    ssl_context.set_ciphers('DEFAULT:!DH')\n",
    "    smtp = smtplib.SMTP_SSL(SMTP_SERVER, SMTP_PORT, context=ssl_context)\n",
    "    smtp.login(SMTP_USER, SMTP_PASSWORD)\n",
    "    smtp.sendmail(msg['From'], msg['To'], msg.as_string())\n",
    "    smtp.close()\n",
    "\n",
    "    o('[INFO] smtp done')\n",
    "\n",
    "def slack():\n",
    "    requests.post(\n",
    "    f'https://hooks.slack.com/services/{conf.SLACK_WEBHOOK_URL}',\n",
    "    headers={\n",
    "        'content-type': 'application/json'\n",
    "    },\n",
    "    json={\n",
    "        'text': giving_message,\n",
    "        'blocks': [\n",
    "        {\n",
    "            'type': 'section',\n",
    "            'text': {\n",
    "            'type': 'mrkdwn',\n",
    "            'text': giving_message\n",
    "            }\n",
    "        }\n",
    "        ]\n",
    "    }\n",
    "    )\n",
    "    o('[INFO] slack done')"
   ]
  },
  {
   "cell_type": "code",
   "execution_count": 4,
   "metadata": {},
   "outputs": [],
   "source": [
    "def try_get_content():\n",
    "    try:\n",
    "        headers = conf.get_request_header(project_id)\n",
    "        base_url = conf.get_base_url(project_id)\n",
    "        data = conf.get_data(project_id)\n",
    "        response = requests.post(base_url, headers=headers, data=data)\n",
    "        return response.content\n",
    "    except Exception as e:\n",
    "        o('[EXCEPT] try_get_content')\n",
    "        o('', e)\n",
    "        return None\n",
    "def try_get_remain_seat():\n",
    "    try:\n",
    "        content = try_get_content()\n",
    "        soup = bs(content, \"html.parser\")\n",
    "        seat_dic = {}\n",
    "        for obj in soup.find_all('p', {'class':'na'}):\n",
    "            text = obj.get_text()\n",
    "            seat_alpha = text[0]\n",
    "            if seat_alpha.startswith(\"방\"):\n",
    "                continue\n",
    "            seat_number = int(text[1:])\n",
    "            if seat_alpha not in seat_dic:\n",
    "                seat_dic[seat_alpha] = []\n",
    "            seat_disabled = 'disabled' not in obj.parent.parent.parent.parent.attrs['class']\n",
    "            seat_dic[seat_alpha].append((seat_number, seat_disabled))\n",
    "        #print(seat_dic)\n",
    "        #print(seat_dic['A'])\n",
    "        #print(seat_dic['A'][4:])\n",
    "        result = ''\n",
    "        for item in seat_dic['A'][4:]:\n",
    "            if item[1]:\n",
    "                result += str(item[0]) + ' '\n",
    "        return result\n",
    "    except Exception as e:\n",
    "        o('[EXCEPT] try_get_remain_seat')\n",
    "        o('', e)\n",
    "        return None\n",
    "def try_alarm():\n",
    "    try:\n",
    "        mail()\n",
    "    except Exception as e:\n",
    "        o('[EXCEPT] try_smtp')\n",
    "        o('', e)\n",
    "    try:\n",
    "        slack()\n",
    "    except Exception as e:\n",
    "        o('[EXCEPT] try_slack')\n",
    "        o('', e)\n",
    "    #return\n",
    "    import winsound\n",
    "    import time\n",
    "    frequency = 1500  # Set Frequency To 2500 Hertz\n",
    "    duration = 1000  # Set Duration To 1000 ms == 1 second\n",
    "    for _ in range(20):\n",
    "        time.sleep(0.5)\n",
    "        winsound.Beep(frequency, duration)\n"
   ]
  },
  {
   "cell_type": "code",
   "execution_count": 5,
   "metadata": {},
   "outputs": [],
   "source": [
    "def check():\n",
    "    remain_seat = try_get_remain_seat()\n",
    "    if remain_seat == None:\n",
    "        return False\n",
    "    if len(remain_seat) > 0:\n",
    "        o('A 자리', f'{remain_seat}')\n",
    "        try_alarm(remain_seat)\n",
    "    else:\n",
    "        o('A 자리 없음')\n",
    "    return True\n"
   ]
  },
  {
   "cell_type": "code",
   "execution_count": null,
   "metadata": {},
   "outputs": [],
   "source": [
    "# try_alarm()\n",
    "# check()\n",
    "# slack()"
   ]
  },
  {
   "cell_type": "code",
   "execution_count": 6,
   "metadata": {},
   "outputs": [
    {
     "name": "stdout",
     "output_type": "stream",
     "text": [
      "[(1, True), (2, False), (3, False), (4, False), (5, False), (6, False), (7, False), (8, False), (9, False), (10, False), (11, False), (12, False)]\n"
     ]
    },
    {
     "name": "stderr",
     "output_type": "stream",
     "text": [
      "2024-05-18 13:30:19\tA 자리 없음\n"
     ]
    }
   ],
   "source": [
    "while True:\n",
    "    if check() == False:\n",
    "        time.sleep(random.randrange(60 * 2, 60 * 3))\n",
    "    else:\n",
    "        time.sleep(random.randrange(50, 70))"
   ]
  }
 ],
 "metadata": {
  "kernelspec": {
   "display_name": "Python 3",
   "language": "python",
   "name": "python3"
  },
  "language_info": {
   "codemirror_mode": {
    "name": "ipython",
    "version": 3
   },
   "file_extension": ".py",
   "mimetype": "text/x-python",
   "name": "python",
   "nbconvert_exporter": "python",
   "pygments_lexer": "ipython3",
   "version": "3.10.5"
  }
 },
 "nbformat": 4,
 "nbformat_minor": 2
}
