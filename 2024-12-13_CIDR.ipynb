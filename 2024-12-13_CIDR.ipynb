{
 "cells": [
  {
   "cell_type": "code",
   "execution_count": 18,
   "metadata": {},
   "outputs": [],
   "source": [
    "import re\n",
    "import ipaddress"
   ]
  },
  {
   "cell_type": "code",
   "execution_count": null,
   "metadata": {},
   "outputs": [],
   "source": [
    "text = \"\"\"\n",
    "223.130.200.219,naver.com\n",
    "223.130.200.236,naver.com\n",
    "223.130.192.247,naver.com\n",
    "223.130.192.248,naver.com\n",
    "125.209.233.18,recoshopping.naver.com.nheos.com\n",
    "125.209.233.26,recoshopping.naver.com.nheos.com\n",
    "223.130.192.205,kr-tivan.naver.com\n",
    "202.179.178.29,kr1-nlog.naver.com.nheos.com\n",
    "\"\"\"\n",
    "''"
   ]
  },
  {
   "cell_type": "code",
   "execution_count": null,
   "metadata": {},
   "outputs": [],
   "source": [
    "cidr_text = \"\"\"\n",
    "sudo ip route add 61.247.192.0/19 via 192.168.1.1\n",
    "sudo ip route add 110.93.144.0/20 via 192.168.1.1\n",
    "sudo ip route add 125.209.192.0/18 via 192.168.1.1\n",
    "sudo ip route add 202.179.176.0/21 via 192.168.1.1\n",
    "sudo ip route add 210.89.160.0/19 via 192.168.1.1\n",
    "sudo ip route add 223.130.192.0/20 via 192.168.1.1\n",
    "\"\"\"\n",
    "''"
   ]
  },
  {
   "cell_type": "code",
   "execution_count": null,
   "metadata": {},
   "outputs": [],
   "source": [
    "cidr_list = []\n",
    "result=re.findall(r\"[0-9]{1,3}\\.[0-9]{1,3}\\.[0-9]{1,3}\\.[0-9]{1,3}/\\d{1,3}\", cidr_text)\n",
    "for item in result:\n",
    "    ip = item.replace('(', '').replace(')', '')\n",
    "    cidr_list.append(ip)\n",
    "cidr_list"
   ]
  },
  {
   "cell_type": "code",
   "execution_count": null,
   "metadata": {},
   "outputs": [],
   "source": [
    "\n",
    "\n",
    "ips = set()\n",
    "result=re.findall(r\"[0-9]{1,3}\\.[0-9]{1,3}\\.[0-9]{1,3}\\.[0-9]{1,3}\", text)\n",
    "for item in result:\n",
    "    ip = item.replace('(', '').replace(')', '')\n",
    "    ips.add(ip)\n",
    "\n",
    "for ip in ips:\n",
    "    found = False\n",
    "    for cidr in cidr_list:\n",
    "        if (ipaddress.ip_address(ip) in ipaddress.ip_network(cidr)):\n",
    "            #print(ip, '=>',cidr)\n",
    "            found = True\n",
    "            break\n",
    "    if found == False:\n",
    "        print(ip, 'Not Found')\n",
    "\n",
    "# sudo ip route add 13.64.0.0/11  via 192.168.50.1\n",
    "for cidr in cidr_list:\n",
    "    print(f'sudo ip route add {cidr} via 192.168.1.1')"
   ]
  }
 ],
 "metadata": {
  "kernelspec": {
   "display_name": "Python 3",
   "language": "python",
   "name": "python3"
  },
  "language_info": {
   "codemirror_mode": {
    "name": "ipython",
    "version": 3
   },
   "file_extension": ".py",
   "mimetype": "text/x-python",
   "name": "python",
   "nbconvert_exporter": "python",
   "pygments_lexer": "ipython3",
   "version": "3.12.3"
  }
 },
 "nbformat": 4,
 "nbformat_minor": 2
}
