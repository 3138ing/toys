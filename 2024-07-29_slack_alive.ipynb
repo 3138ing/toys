{
 "cells": [
  {
   "cell_type": "code",
   "execution_count": 4,
   "metadata": {},
   "outputs": [],
   "source": [
    "import sys\n",
    "sys.path.insert(0, '../toys-data')\n",
    "import conf"
   ]
  },
  {
   "cell_type": "code",
   "execution_count": 5,
   "metadata": {},
   "outputs": [],
   "source": [
    "import requests"
   ]
  },
  {
   "cell_type": "code",
   "execution_count": 6,
   "metadata": {},
   "outputs": [],
   "source": [
    "def slack(title, content, ip):\n",
    "    requests.post(\n",
    "        f'https://hooks.slack.com/services/{conf.SLACK_WEBHOOK_URL}',\n",
    "        headers={\n",
    "            'content-type': 'application/json'\n",
    "        },\n",
    "        json={\n",
    "            'text': title,\n",
    "            'blocks': [\n",
    "            {\n",
    "                'type': 'section',\n",
    "                'text': {\n",
    "                'type': 'mrkdwn',\n",
    "                'text': f'{content}{ip}'\n",
    "                }\n",
    "            }\n",
    "            ]\n",
    "        }\n",
    "    )"
   ]
  },
  {
   "cell_type": "code",
   "execution_count": 7,
   "metadata": {},
   "outputs": [],
   "source": [
    "def getmyip():\n",
    "    try:\n",
    "        return requests.get(r'http://checkip.amazonaws.com').text.strip()\n",
    "    except:\n",
    "        try:\n",
    "            return requests.get(r'http://api.ipify.org').text.strip()\n",
    "        except:\n",
    "            return \"\""
   ]
  },
  {
   "cell_type": "code",
   "execution_count": 8,
   "metadata": {},
   "outputs": [],
   "source": [
    "slack(\"굿모닝\", \":sun_with_face::smile:\", getmyip())"
   ]
  }
 ],
 "metadata": {
  "kernelspec": {
   "display_name": "Python 3",
   "language": "python",
   "name": "python3"
  },
  "language_info": {
   "codemirror_mode": {
    "name": "ipython",
    "version": 3
   },
   "file_extension": ".py",
   "mimetype": "text/x-python",
   "name": "python",
   "nbconvert_exporter": "python",
   "pygments_lexer": "ipython3",
   "version": "3.12.3"
  }
 },
 "nbformat": 4,
 "nbformat_minor": 2
}
