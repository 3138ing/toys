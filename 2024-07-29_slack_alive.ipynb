{
 "cells": [
  {
   "cell_type": "code",
   "execution_count": 1,
   "metadata": {},
   "outputs": [],
   "source": [
    "import sys\n",
    "sys.path.insert(0, '../toys-data')\n",
    "import conf"
   ]
  },
  {
   "cell_type": "code",
   "execution_count": 3,
   "metadata": {},
   "outputs": [],
   "source": [
    "import requests\n",
    "def slack_by_requests(title, content, ip):\n",
    "    response = requests.post(\n",
    "        f'https://hooks.slack.com/services/{conf.SLACK_WEBHOOK_URL}',\n",
    "        headers={\n",
    "            'content-type': 'application/json'\n",
    "        },\n",
    "        json={\n",
    "            'text': title,\n",
    "            'blocks': [\n",
    "            {\n",
    "                'type': 'section',\n",
    "                'text': {\n",
    "                'type': 'mrkdwn',\n",
    "                'text': f'{content}{ip}'\n",
    "                }\n",
    "            }\n",
    "            ]\n",
    "        }\n",
    "    )\n",
    "    for key, value in response.headers.items():\n",
    "        print(f\"{key}: {value}\")\n",
    "\n",
    "    print(\"\\nBody:\")\n",
    "    print(response.text)\n",
    "    print(\"HTTP Status Code:\", response.status_code)"
   ]
  },
  {
   "cell_type": "code",
   "execution_count": null,
   "metadata": {},
   "outputs": [],
   "source": [
    "import subprocess\n",
    "import json\n",
    "import syslog\n",
    "def slack_by_curl(msg):\n",
    "    slack_webhook_url = f\"https://hooks.slack.com/services/{conf.SLACK_WEBHOOK_URL}\"\n",
    "    curl_command = [\n",
    "        \"curl\",\n",
    "        \"-k\", \"-i\",\n",
    "        \"-X\", \"POST\",\n",
    "        \"-H\", \"Content-type: application/json\",\n",
    "        \"--data\", json.dumps({\"text\": msg}),\n",
    "        slack_webhook_url\n",
    "    ]\n",
    "    try:\n",
    "        result = subprocess.run(curl_command, capture_output=True, text=True, check=True)\n",
    "        response = result.stdout\n",
    "        #\n",
    "        syslog.openlog(ident=\"slack\", logoption=syslog.LOG_PID)\n",
    "        for line in response.split('\\n'):\n",
    "            syslog.syslog(syslog.LOG_INFO, f\"{line}\")\n",
    "        syslog.closelog()\n",
    "    except subprocess.CalledProcessError as e:\n",
    "        syslog.openlog(ident=\"slack\", logoption=syslog.LOG_PID)\n",
    "        syslog.syslog(syslog.LOG_ERR, f\"[EXCEPTION] [CalledProcessError] {e.stderr}\")\n",
    "        syslog.closelog()\n",
    "    except Exception as e:\n",
    "        syslog.openlog(ident=\"slack\", logoption=syslog.LOG_PID)\n",
    "        syslog.syslog(syslog.LOG_ERR, f\"[EXCEPTION] {e}\")  \n",
    "        syslog.closelog()"
   ]
  },
  {
   "cell_type": "code",
   "execution_count": 4,
   "metadata": {},
   "outputs": [],
   "source": [
    "def getmyip():\n",
    "    try:\n",
    "        return requests.get(r'http://checkip.amazonaws.com').text.strip()\n",
    "    except:\n",
    "        try:\n",
    "            return requests.get(r'http://api.ipify.org').text.strip()\n",
    "        except:\n",
    "            return \"\""
   ]
  },
  {
   "cell_type": "code",
   "execution_count": null,
   "metadata": {},
   "outputs": [],
   "source": [
    "#slack_by_requests(\"굿모닝\", \":sun_with_face: :smile: :herb: \", getmyip())\n",
    "slack_by_curl(f\":sun_with_face: :smile: :herb: {getmyip()}\")"
   ]
  }
 ],
 "metadata": {
  "kernelspec": {
   "display_name": "Python 3",
   "language": "python",
   "name": "python3"
  },
  "language_info": {
   "codemirror_mode": {
    "name": "ipython",
    "version": 3
   },
   "file_extension": ".py",
   "mimetype": "text/x-python",
   "name": "python",
   "nbconvert_exporter": "python",
   "pygments_lexer": "ipython3",
   "version": "3.12.3"
  }
 },
 "nbformat": 4,
 "nbformat_minor": 2
}
