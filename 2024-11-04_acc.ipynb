{
 "cells": [
  {
   "cell_type": "code",
   "execution_count": null,
   "metadata": {},
   "outputs": [],
   "source": [
    "import sys\n",
    "sys.path.insert(0, '../toys-data/conf.d')\n",
    "import acc as conf"
   ]
  },
  {
   "cell_type": "code",
   "execution_count": null,
   "metadata": {},
   "outputs": [],
   "source": [
    "import time\n",
    "import random\n",
    "import pyperclip\n",
    "from selenium import webdriver\n",
    "from selenium.webdriver import ActionChains, Keys\n",
    "from selenium.webdriver.chrome.service import Service\n",
    "from selenium.webdriver.chrome.options import Options\n",
    "from selenium.webdriver.common.by import By\n",
    "from webdriver_manager.chrome import ChromeDriverManager"
   ]
  },
  {
   "cell_type": "code",
   "execution_count": null,
   "metadata": {},
   "outputs": [],
   "source": [
    "### driver\n",
    "\n",
    "options = Options()\n",
    "options.add_experimental_option(\"detach\", True)\n",
    "options.add_experimental_option(\"excludeSwitches\", [\"enable-logging\"])\n",
    "#options.add_argument(\"--auto-open-devtools-for-tabs\")  # DevTools를 자동으로 활성화\n",
    "\n",
    "service = Service(excutable_path=ChromeDriverManager().install())\n",
    "#service = Service('chromedriver')  # chromedriver 경로 설정\n",
    "driver = webdriver.Chrome(service=service, options=options)\n",
    "# driver.implicitly_wait(5)\n",
    "# driver.maximize_window()"
   ]
  },
  {
   "cell_type": "code",
   "execution_count": null,
   "metadata": {},
   "outputs": [],
   "source": [
    "### login\n",
    "\n",
    "driver.get(\"https://nid.naver.com/nidlogin.login?mode=form&url=https://www.naver.com/\")\n",
    "\n",
    "def send_keys(obj, keys):\n",
    "    for key in keys:\n",
    "        time.sleep(random.randint(100, 900)/1000)\n",
    "\n",
    "id = driver.find_element(By.CSS_SELECTOR, \"#id\")\n",
    "id.click()\n",
    "#id.send_keys(\"hong\")\n",
    "pyperclip.copy(conf.login_id)\n",
    "ActionChains(driver).key_down(Keys.CONTROL).send_keys('v').key_up(Keys.CONTROL).perform()\n",
    "time.sleep(1)\n",
    "\n",
    "pw = driver.find_element(By.CSS_SELECTOR, \"#pw\")\n",
    "pw.click()\n",
    "#pw.send_keys(\"gildong\")\n",
    "pyperclip.copy(conf.login_pass)\n",
    "ActionChains(driver).key_down(Keys.CONTROL).send_keys('v').key_up(Keys.CONTROL).perform()\n",
    "time.sleep(1)\n",
    "\n",
    "login_btn = driver.find_element(By.CSS_SELECTOR, \"#log\\.login\")\n",
    "login_btn.click()"
   ]
  }
 ],
 "metadata": {
  "kernelspec": {
   "display_name": "Python 3",
   "language": "python",
   "name": "python3"
  },
  "language_info": {
   "codemirror_mode": {
    "name": "ipython",
    "version": 3
   },
   "file_extension": ".py",
   "mimetype": "text/x-python",
   "name": "python",
   "nbconvert_exporter": "python",
   "pygments_lexer": "ipython3",
   "version": "3.12.3"
  }
 },
 "nbformat": 4,
 "nbformat_minor": 2
}
