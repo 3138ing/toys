{
 "cells": [
  {
   "cell_type": "code",
   "execution_count": null,
   "metadata": {},
   "outputs": [],
   "source": [
    "import feedparser"
   ]
  },
  {
   "cell_type": "code",
   "execution_count": null,
   "metadata": {},
   "outputs": [],
   "source": [
    "rss = feedparser.parse('http://www.goesn.kr/goesn/na/ntt/selectRssFeed.do?mi=26103&bbsId=20296')\n",
    "limit = 2\n",
    "for entry in rss.entries:\n",
    "    print(entry.published.replace('T', ' '), entry.title, entry.link)\n",
    "    limit -= 1\n",
    "    if limit == 0:\n",
    "        break\n",
    "\"\"\"\n",
    "2025-03-13 18:33:25 2025 성남다움 공유학교 프로그램 참여를 위한 교육디지털원패스 회원가입 및 모집 절차 안내 https://www.goesn.kr/goesn/na/ntt/selectNttInfo.do?nttSn=1825967&mi=26103\n",
    "\"\"\"\n",
    "''"
   ]
  },
  {
   "cell_type": "code",
   "execution_count": null,
   "metadata": {},
   "outputs": [],
   "source": [
    "rss = feedparser.parse('http://snd-e.goesn.kr/snd-e/na/ntt/selectRssFeed.do?mi=13352&bbsId=11810')\n",
    "limit = 2\n",
    "for entry in rss.entries:\n",
    "    print(entry.published.replace('T', ' '), entry.title, entry.link)\n",
    "    limit -= 1\n",
    "    if limit == 0:\n",
    "        break\n",
    "\"\"\"\n",
    "2024-12-16 15:10:21 2025학년도 성남교육지원청 부설 성남동초 발명교육센터 합격자 발표 https://www.goesn.kr/snd-e/na/ntt/selectNttInfo.do?nttSn=1809733&mi=13352\n",
    "\"\"\"\n",
    "''\n"
   ]
  }
 ],
 "metadata": {
  "kernelspec": {
   "display_name": "Python 3",
   "language": "python",
   "name": "python3"
  },
  "language_info": {
   "codemirror_mode": {
    "name": "ipython",
    "version": 3
   },
   "file_extension": ".py",
   "mimetype": "text/x-python",
   "name": "python",
   "nbconvert_exporter": "python",
   "pygments_lexer": "ipython3",
   "version": "3.12.3"
  }
 },
 "nbformat": 4,
 "nbformat_minor": 2
}
