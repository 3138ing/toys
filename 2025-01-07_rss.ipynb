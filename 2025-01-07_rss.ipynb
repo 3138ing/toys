{
 "cells": [
  {
   "cell_type": "code",
   "execution_count": null,
   "metadata": {},
   "outputs": [],
   "source": [
    "import feedparser\n",
    "rss = feedparser.parse('http://www.goesn.kr/goesn/na/ntt/selectRssFeed.do?mi=26103&bbsId=20296')\n",
    "for entry in rss.entries:\n",
    "    if not entry.published.startswith('2025-02'):\n",
    "        continue\n",
    "    print(entry.published.replace('T', ' '), entry.title, entry.link)\n",
    "\"\"\"\n",
    "2025-02-14 13:17:06 2025 성남교육지원청 공유학교 정책 설명 및 학부모 연수 안내 https://www.goesn.kr/goesn/na/ntt/selectNttInfo.do?nttSn=1817063&mi=26103\n",
    "\"\"\"\n",
    "''"
   ]
  }
 ],
 "metadata": {
  "kernelspec": {
   "display_name": "Python 3",
   "language": "python",
   "name": "python3"
  },
  "language_info": {
   "codemirror_mode": {
    "name": "ipython",
    "version": 3
   },
   "file_extension": ".py",
   "mimetype": "text/x-python",
   "name": "python",
   "nbconvert_exporter": "python",
   "pygments_lexer": "ipython3",
   "version": "3.12.3"
  }
 },
 "nbformat": 4,
 "nbformat_minor": 2
}
