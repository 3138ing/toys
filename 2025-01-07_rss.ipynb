{
 "cells": [
  {
   "cell_type": "code",
   "execution_count": null,
   "metadata": {},
   "outputs": [],
   "source": [
    "import feedparser\n",
    "rss = feedparser.parse('http://www.goesn.kr/goesn/na/ntt/selectRssFeed.do?mi=26103&bbsId=20296')\n",
    "for entry in rss.entries:\n",
    "    print(entry.published.replace('T', ' '), entry.title, entry.link)\n",
    "\n",
    "\"\"\"\n",
    "2025-02-14 13:17:06 2025 성남교육지원청 공유학교 정책 설명 및 학부모 연수 안내 https://www.goesn.kr/goesn/na/ntt/selectNttInfo.do?nttSn=1817063&mi=26103\n",
    "2024-12-13 11:35:33 2024 성남 로컬 에듀케이션 한마당 초대 https://www.goesn.kr/goesn/na/ntt/selectNttInfo.do?nttSn=1809288&mi=26103\n",
    "2024-12-10 11:39:39 2025 성남다움 공유학교 겨울방학 프로그램 추가 학생 모집 안내 https://www.goesn.kr/goesn/na/ntt/selectNttInfo.do?nttSn=1808450&mi=26103\n",
    "\"\"\"\n",
    "''"
   ]
  }
 ],
 "metadata": {
  "kernelspec": {
   "display_name": "Python 3",
   "language": "python",
   "name": "python3"
  },
  "language_info": {
   "codemirror_mode": {
    "name": "ipython",
    "version": 3
   },
   "file_extension": ".py",
   "mimetype": "text/x-python",
   "name": "python",
   "nbconvert_exporter": "python",
   "pygments_lexer": "ipython3",
   "version": "3.12.3"
  }
 },
 "nbformat": 4,
 "nbformat_minor": 2
}
