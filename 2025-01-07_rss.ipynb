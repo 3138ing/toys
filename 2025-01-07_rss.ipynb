{
 "cells": [
  {
   "cell_type": "code",
   "execution_count": null,
   "metadata": {},
   "outputs": [],
   "source": [
    "import feedparser\n",
    "rss = feedparser.parse('http://www.goesn.kr/goesn/na/ntt/selectRssFeed.do?mi=26103&bbsId=20296')\n",
    "for entry in rss.entries:\n",
    "    print(entry.published.replace('T', ' '), entry.title, entry.link)\n",
    "\n",
    "\"\"\"\n",
    "2024-12-13 11:35:33 2024 성남 로컬 에듀케이션 한마당 초대 https://www.goesn.kr/goesn/na/ntt/selectNttInfo.do?nttSn=1809288&mi=26103\n",
    "2024-12-10 11:39:39 2025 성남다움 공유학교 겨울방학 프로그램 추가 학생 모집 안내 https://www.goesn.kr/goesn/na/ntt/selectNttInfo.do?nttSn=1808450&mi=26103\n",
    "2024-10-13 14:36:50 2024 성남 무대연출 공유학교, 생태환경 캠핑공유학교 학생 모집 조기 종료 안내 https://www.goesn.kr/goesn/na/ntt/selectNttInfo.do?nttSn=1794156&mi=26103\n",
    "2024-10-13 14:29:25 2024 성남교육지원청 오케스트라 공유학교 제2회 정기연주회 초대 https://www.goesn.kr/goesn/na/ntt/selectNttInfo.do?nttSn=1794155&mi=26103\n",
    "2024-10-08 11:15:09 2024 성남 무대연출 공유학교 학생 모집 안내 https://www.goesn.kr/goesn/na/ntt/selectNttInfo.do?nttSn=1793015&mi=26103\n",
    "2024-10-08 11:11:34 2024 성남 생태환경 캠핑 공유학교 학생 모집 안내 https://www.goesn.kr/goesn/na/ntt/selectNttInfo.do?nttSn=1793011&mi=26103\n",
    "2024-09-27 16:25:08 2024 경기공유학교 60초 영상 공모 수상작 이벤트 안내 https://www.goesn.kr/goesn/na/ntt/selectNttInfo.do?nttSn=1791152&mi=26103\n",
    "2024-08-26 10:37:17 2024 성남교육지원청 아이스하키 공유학교 학생 모집 조기 마감 안내 https://www.goesn.kr/goesn/na/ntt/selectNttInfo.do?nttSn=1782219&mi=26103\n",
    "2024-08-21 15:21:13 2024 성남교육지원청 아이스하키 공유학교 학생 모집 안내 https://www.goesn.kr/goesn/na/ntt/selectNttInfo.do?nttSn=1781378&mi=26103\n",
    "2024-07-26 10:41:16 경기공유학교 60초 홍보 영상 공모 안내 https://www.goesn.kr/goesn/na/ntt/selectNttInfo.do?nttSn=1777910&mi=26103\n",
    "2024-07-22 16:09:48 경기도교육청, 경기공유학교 홍보 https://www.goesn.kr/goesn/na/ntt/selectNttInfo.do?nttSn=1777183&mi=26103\n",
    "2024-07-22 14:10:26 2024 성남다움 공유학교 하반기 프로그램 참여 모집 마감 안내 https://www.goesn.kr/goesn/na/ntt/selectNttInfo.do?nttSn=1777116&mi=26103\n",
    "2024-07-07 15:59:24 2024 성남다움 공유학교 하반기 프로그램 참여 학생 선착순 모집(2024.7.7.(일) 09:00~ 2024.7.13.(토) 17:00) https://www.goesn.kr/goesn/na/ntt/selectNttInfo.do?nttSn=1773256&mi=26103\n",
    "2024-04-15 16:21:58 2024 성남다움 공유학교 2차(여름방학 및 하반기 프로그램) 참여자 모집(7월 중) 안내 https://www.goesn.kr/goesn/na/ntt/selectNttInfo.do?nttSn=1749293&mi=26103\n",
    "2024-04-15 15:58:25 2024 성남다움 공유학교 상반기 프로그램(4~7월) 참여자 모집이 종료되었습니다. https://www.goesn.kr/goesn/na/ntt/selectNttInfo.do?nttSn=1749265&mi=26103\n",
    "\"\"\""
   ]
  }
 ],
 "metadata": {
  "kernelspec": {
   "display_name": "Python 3",
   "language": "python",
   "name": "python3"
  },
  "language_info": {
   "codemirror_mode": {
    "name": "ipython",
    "version": 3
   },
   "file_extension": ".py",
   "mimetype": "text/x-python",
   "name": "python",
   "nbconvert_exporter": "python",
   "pygments_lexer": "ipython3",
   "version": "3.12.3"
  }
 },
 "nbformat": 4,
 "nbformat_minor": 2
}
