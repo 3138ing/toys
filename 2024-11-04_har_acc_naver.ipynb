{
 "cells": [
  {
   "cell_type": "code",
   "execution_count": 6,
   "metadata": {},
   "outputs": [],
   "source": [
    "import sys\n",
    "sys.path.insert(0, '../toys-data/conf.d')\n",
    "import acc as conf"
   ]
  },
  {
   "cell_type": "code",
   "execution_count": 7,
   "metadata": {},
   "outputs": [],
   "source": [
    "import json"
   ]
  },
  {
   "cell_type": "code",
   "execution_count": null,
   "metadata": {},
   "outputs": [],
   "source": [
    "with open(f'../toys-data/har/{conf.id_paymentList}.har', 'r') as file:\n",
    "    har = json.load(file)"
   ]
  },
  {
   "cell_type": "code",
   "execution_count": null,
   "metadata": {},
   "outputs": [],
   "source": [
    "def analyze_har(node, node_list):\n",
    "    copy_node_list = node_list.copy()\n",
    "    if type(node) is list:\n",
    "        for index, element in enumerate(node):\n",
    "            analyze_har(element, copy_node_list + [f'[{index}]'])\n",
    "    elif type(node) is dict:\n",
    "        for element in node:\n",
    "            analyze_har(node[element], copy_node_list + [element])\n",
    "    elif type(node) is str:\n",
    "        #print(copy_node_list, node)\n",
    "        None\n",
    "    elif type(node) is int:\n",
    "        #print(copy_node_list, node)\n",
    "        None\n",
    "    elif type(node) is float:\n",
    "        #print(copy_node_list, node)\n",
    "        None\n",
    "    elif type(node) is bool:\n",
    "        #print(copy_node_list, node)\n",
    "        None\n",
    "    elif node is None:\n",
    "        None\n",
    "    else:\n",
    "        print('[EXCEPT]', type(node), node_list)\n",
    "node_list = []\n",
    "analyze_har(har, node_list)"
   ]
  },
  {
   "cell_type": "code",
   "execution_count": null,
   "metadata": {},
   "outputs": [],
   "source": [
    "rows = []\n",
    "for entry_index, entry in enumerate(har['log']['entries']):\n",
    "    if entry['_initiator']['type'] == 'preflight':\n",
    "        continue\n",
    "    if 'text' not in entry['response']['content']:\n",
    "        continue\n",
    "    try:\n",
    "        for row in json.loads(entry['response']['content']['text'])['result']['response']['list']:\n",
    "            rows.append(row)\n",
    "    except Exception as ex:\n",
    "        print('[EXCEPT]', ex)\n",
    "\n",
    "import pandas as pd\n",
    "df = pd.DataFrame(rows)\n",
    "df = df.dropna(axis=1, how='all')\n",
    "df = df.applymap(lambda x: str(x) if isinstance(x, (dict, list)) else x)\n",
    "df = df.loc[:, df.nunique() > 1]\n",
    "df.to_csv('../toys-data/acc/paymoneyList_2024-11-26.csv')"
   ]
  },
  {
   "cell_type": "code",
   "execution_count": 15,
   "metadata": {},
   "outputs": [],
   "source": [
    "# ### sample\n",
    "# node = json.loads(har['log']['entries'][0]['response']['content']['text'])\n",
    "# node['result']['response']['list']"
   ]
  }
 ],
 "metadata": {
  "kernelspec": {
   "display_name": "Python 3",
   "language": "python",
   "name": "python3"
  },
  "language_info": {
   "codemirror_mode": {
    "name": "ipython",
    "version": 3
   },
   "file_extension": ".py",
   "mimetype": "text/x-python",
   "name": "python",
   "nbconvert_exporter": "python",
   "pygments_lexer": "ipython3",
   "version": "3.12.3"
  }
 },
 "nbformat": 4,
 "nbformat_minor": 2
}
