{
 "cells": [
  {
   "cell_type": "code",
   "execution_count": null,
   "metadata": {},
   "outputs": [],
   "source": [
    "import requests\n",
    "import time\n",
    "import datetime"
   ]
  },
  {
   "cell_type": "code",
   "execution_count": null,
   "metadata": {},
   "outputs": [],
   "source": [
    "server = ['http://checkip.amazonaws.com', 'http://api.ipify.org']\n",
    "server_index = 0\n",
    "old_myip = ''"
   ]
  },
  {
   "cell_type": "code",
   "execution_count": null,
   "metadata": {},
   "outputs": [],
   "source": [
    "with open('../toys-data/var/log/check_myip.log', 'ab') as f:\n",
    "    while True:\n",
    "        myip = ''\n",
    "        date = datetime.datetime.now().strftime('%Y-%m-%d %H:%M:%S')\n",
    "        server_index = 0 if server_index == 1 else 1\n",
    "        try:\n",
    "            myip = requests.get(server[server_index]).text.strip()\n",
    "            text = f'{date}\\t{myip}'\n",
    "        except:\n",
    "            text = f\"{date}\\t[EXCEPT] {server[server_index].split('.')[-2]}\"\n",
    "        #\n",
    "        if old_myip != myip:\n",
    "            old_myip = myip\n",
    "            print(text)\n",
    "        #\n",
    "        f.write(f'{text}\\n'.encode())\n",
    "        f.flush()\n",
    "        #\n",
    "        time.sleep(60)"
   ]
  }
 ],
 "metadata": {
  "kernelspec": {
   "display_name": "Python 3",
   "language": "python",
   "name": "python3"
  },
  "language_info": {
   "codemirror_mode": {
    "name": "ipython",
    "version": 3
   },
   "file_extension": ".py",
   "mimetype": "text/x-python",
   "name": "python",
   "nbconvert_exporter": "python",
   "pygments_lexer": "ipython3",
   "version": "3.12.2"
  }
 },
 "nbformat": 4,
 "nbformat_minor": 2
}
